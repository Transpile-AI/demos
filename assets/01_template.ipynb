{
 "cells": [
  {
   "attachments": {},
   "cell_type": "markdown",
   "metadata": {},
   "source": [
    "# TO REPLACE: Title"
   ]
  },
  {
   "attachments": {},
   "cell_type": "markdown",
   "metadata": {},
   "source": [
    "TO REPLACE: description"
   ]
  },
  {
   "cell_type": "markdown",
   "metadata": {},
   "source": [
    "If you already have `Ivy` installed you can skip this cell, but if you are using Colab, you will have to install `Ivy` manually. You can do so by running the cell below ⬇️\n",
    "\n",
    "Keep in mind that for the package to be available, you will have to click on **\"Runtime > Restart Runtime\"** 😄"
   ]
  },
  {
   "cell_type": "code",
   "execution_count": null,
   "metadata": {},
   "outputs": [],
   "source": [
    "!git clone https://github.com/unifyai/models.git\n",
    "\n",
    "# Using a stable commit from models repository to ensure compatibility with Ivy 😄\n",
    "!cd models/ && git checkout 6d6deebcebb191788a0f6e067b0a10871ce65d1c && pip install ."
   ]
  },
  {
   "cell_type": "code",
   "execution_count": null,
   "metadata": {},
   "outputs": [],
   "source": [
    "# TO REPLACE:\n",
    "# All contents start from here!\n",
    "# Use ## tag (h2) for section titles\n",
    "# Use ### tag (h3) for subsection titles\n",
    "# Use normal paragraph (p, no tag) for steps and explanations"
   ]
  }
 ],
 "metadata": {
  "language_info": {
   "name": "python"
  },
  "orig_nbformat": 4
 },
 "nbformat": 4,
 "nbformat_minor": 2
}
