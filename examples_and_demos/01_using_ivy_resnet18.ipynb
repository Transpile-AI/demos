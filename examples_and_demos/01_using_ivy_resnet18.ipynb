{
  "cells": [
    {
      "cell_type": "markdown",
      "metadata": {
        "id": "H2dI5NJfTRpj"
      },
      "source": [
        "# Using Ivy ResNet18"
      ]
    },
    {
      "cell_type": "markdown",
      "metadata": {
        "id": "rP2wZ8RtTRpm"
      },
      "source": [
        "Use the Ivy `ResNet18` model for image classification."
      ]
    },
    {
      "cell_type": "markdown",
      "metadata": {
        "id": "dBlrOFuETRpm"
      },
      "source": [
        "If you already have `Ivy` and `Ivy Models` installed you can skip this cell, but if you are using Colab, you will have to install `Ivy` and `Ivy Models` manually. You can do so by running the cell below ⬇️\n",
        "\n",
        "Keep in mind that for the package to be available, you will have to click on **\"Runtime > Restart Runtime\"** 😄"
      ]
    },
    {
      "cell_type": "code",
      "execution_count": 1,
      "metadata": {
        "colab": {
          "base_uri": "https://localhost:8080/"
        },
        "id": "9TBvJ5p_TRpn",
        "outputId": "78d1104b-43ce-4146-f4f2-ae4291636bed"
      },
      "outputs": [
        {
          "name": "stdout",
          "output_type": "stream",
          "text": [
            "fatal: destination path 'ivy' already exists and is not an empty directory.\n",
            "Looking in indexes: https://pypi.org/simple, https://us-python.pkg.dev/colab-wheels/public/simple/\n",
            "Obtaining file:///content/ivy\n",
            "  Preparing metadata (setup.py) ... \u001b[?25l\u001b[?25hdone\n",
            "Requirement already satisfied: numpy in /usr/local/lib/python3.10/dist-packages (from ivy-core==1.1.9) (1.22.4)\n",
            "Requirement already satisfied: einops==0.6.1 in /root/.local/lib/python3.10/site-packages (from ivy-core==1.1.9) (0.6.1)\n",
            "Requirement already satisfied: psutil==5.9.1 in /root/.local/lib/python3.10/site-packages (from ivy-core==1.1.9) (5.9.1)\n",
            "Requirement already satisfied: termcolor==1.1.0 in /root/.local/lib/python3.10/site-packages (from ivy-core==1.1.9) (1.1.0)\n",
            "Requirement already satisfied: colorama==0.4.5 in /root/.local/lib/python3.10/site-packages (from ivy-core==1.1.9) (0.4.5)\n",
            "Requirement already satisfied: packaging==21.3 in /root/.local/lib/python3.10/site-packages (from ivy-core==1.1.9) (21.3)\n",
            "Requirement already satisfied: nvidia-ml-py<=11.495.46 in /root/.local/lib/python3.10/site-packages (from ivy-core==1.1.9) (11.495.46)\n",
            "Requirement already satisfied: diskcache in /root/.local/lib/python3.10/site-packages (from ivy-core==1.1.9) (5.6.1)\n",
            "Requirement already satisfied: google-auth in /usr/local/lib/python3.10/dist-packages (from ivy-core==1.1.9) (2.17.3)\n",
            "Requirement already satisfied: requests in /usr/local/lib/python3.10/dist-packages (from ivy-core==1.1.9) (2.27.1)\n",
            "Requirement already satisfied: pyparsing!=3.0.5,>=2.0.2 in /usr/local/lib/python3.10/dist-packages (from packaging==21.3->ivy-core==1.1.9) (3.0.9)\n",
            "Requirement already satisfied: cachetools<6.0,>=2.0.0 in /usr/local/lib/python3.10/dist-packages (from google-auth->ivy-core==1.1.9) (5.3.0)\n",
            "Requirement already satisfied: pyasn1-modules>=0.2.1 in /usr/local/lib/python3.10/dist-packages (from google-auth->ivy-core==1.1.9) (0.3.0)\n",
            "Requirement already satisfied: six>=1.9.0 in /usr/local/lib/python3.10/dist-packages (from google-auth->ivy-core==1.1.9) (1.16.0)\n",
            "Requirement already satisfied: rsa<5,>=3.1.4 in /usr/local/lib/python3.10/dist-packages (from google-auth->ivy-core==1.1.9) (4.9)\n",
            "Requirement already satisfied: urllib3<1.27,>=1.21.1 in /usr/local/lib/python3.10/dist-packages (from requests->ivy-core==1.1.9) (1.26.15)\n",
            "Requirement already satisfied: certifi>=2017.4.17 in /usr/local/lib/python3.10/dist-packages (from requests->ivy-core==1.1.9) (2022.12.7)\n",
            "Requirement already satisfied: charset-normalizer~=2.0.0 in /usr/local/lib/python3.10/dist-packages (from requests->ivy-core==1.1.9) (2.0.12)\n",
            "Requirement already satisfied: idna<4,>=2.5 in /usr/local/lib/python3.10/dist-packages (from requests->ivy-core==1.1.9) (3.4)\n",
            "Requirement already satisfied: pyasn1<0.6.0,>=0.4.6 in /usr/local/lib/python3.10/dist-packages (from pyasn1-modules>=0.2.1->google-auth->ivy-core==1.1.9) (0.5.0)\n",
            "Installing collected packages: ivy-core\n",
            "  Attempting uninstall: ivy-core\n",
            "    Found existing installation: ivy-core 1.1.9\n",
            "    Uninstalling ivy-core-1.1.9:\n",
            "\u001b[31mERROR: Operation cancelled by user\u001b[0m\u001b[31m\n",
            "\u001b[0mfatal: destination path 'models' already exists and is not an empty directory.\n",
            "Looking in indexes: https://pypi.org/simple, https://us-python.pkg.dev/colab-wheels/public/simple/\n",
            "Obtaining file:///content/models\n",
            "  Preparing metadata (setup.py) ... \u001b[?25l\u001b[?25hdone\n",
            "Requirement already satisfied: ivy-core in /content/ivy (from ivy-models==1.1.9) (1.1.9)\n",
            "Requirement already satisfied: numpy in /usr/local/lib/python3.10/dist-packages (from ivy-core->ivy-models==1.1.9) (1.22.4)\n",
            "Requirement already satisfied: einops==0.6.1 in /root/.local/lib/python3.10/site-packages (from ivy-core->ivy-models==1.1.9) (0.6.1)\n",
            "Requirement already satisfied: psutil==5.9.1 in /root/.local/lib/python3.10/site-packages (from ivy-core->ivy-models==1.1.9) (5.9.1)\n",
            "Requirement already satisfied: termcolor==1.1.0 in /root/.local/lib/python3.10/site-packages (from ivy-core->ivy-models==1.1.9) (1.1.0)\n",
            "Requirement already satisfied: colorama==0.4.5 in /root/.local/lib/python3.10/site-packages (from ivy-core->ivy-models==1.1.9) (0.4.5)\n",
            "Requirement already satisfied: packaging==21.3 in /root/.local/lib/python3.10/site-packages (from ivy-core->ivy-models==1.1.9) (21.3)\n",
            "Requirement already satisfied: nvidia-ml-py<=11.495.46 in /root/.local/lib/python3.10/site-packages (from ivy-core->ivy-models==1.1.9) (11.495.46)\n",
            "Requirement already satisfied: diskcache in /root/.local/lib/python3.10/site-packages (from ivy-core->ivy-models==1.1.9) (5.6.1)\n",
            "Requirement already satisfied: google-auth in /usr/local/lib/python3.10/dist-packages (from ivy-core->ivy-models==1.1.9) (2.17.3)\n",
            "Requirement already satisfied: requests in /usr/local/lib/python3.10/dist-packages (from ivy-core->ivy-models==1.1.9) (2.27.1)\n",
            "Requirement already satisfied: pyparsing!=3.0.5,>=2.0.2 in /usr/local/lib/python3.10/dist-packages (from packaging==21.3->ivy-core->ivy-models==1.1.9) (3.0.9)\n",
            "Requirement already satisfied: cachetools<6.0,>=2.0.0 in /usr/local/lib/python3.10/dist-packages (from google-auth->ivy-core->ivy-models==1.1.9) (5.3.0)\n",
            "Requirement already satisfied: pyasn1-modules>=0.2.1 in /usr/local/lib/python3.10/dist-packages (from google-auth->ivy-core->ivy-models==1.1.9) (0.3.0)\n",
            "Requirement already satisfied: six>=1.9.0 in /usr/local/lib/python3.10/dist-packages (from google-auth->ivy-core->ivy-models==1.1.9) (1.16.0)\n",
            "Requirement already satisfied: rsa<5,>=3.1.4 in /usr/local/lib/python3.10/dist-packages (from google-auth->ivy-core->ivy-models==1.1.9) (4.9)\n",
            "Requirement already satisfied: urllib3<1.27,>=1.21.1 in /usr/local/lib/python3.10/dist-packages (from requests->ivy-core->ivy-models==1.1.9) (1.26.15)\n",
            "Requirement already satisfied: certifi>=2017.4.17 in /usr/local/lib/python3.10/dist-packages (from requests->ivy-core->ivy-models==1.1.9) (2022.12.7)\n",
            "Requirement already satisfied: charset-normalizer~=2.0.0 in /usr/local/lib/python3.10/dist-packages (from requests->ivy-core->ivy-models==1.1.9) (2.0.12)\n",
            "Requirement already satisfied: idna<4,>=2.5 in /usr/local/lib/python3.10/dist-packages (from requests->ivy-core->ivy-models==1.1.9) (3.4)\n",
            "Requirement already satisfied: pyasn1<0.6.0,>=0.4.6 in /usr/local/lib/python3.10/dist-packages (from pyasn1-modules>=0.2.1->google-auth->ivy-core->ivy-models==1.1.9) (0.5.0)\n",
            "Installing collected packages: ivy-models\n",
            "  Attempting uninstall: ivy-models\n",
            "    Found existing installation: ivy-models 1.1.9\n",
            "    Uninstalling ivy-models-1.1.9:\n",
            "      Successfully uninstalled ivy-models-1.1.9\n",
            "  Running setup.py develop for ivy-models\n",
            "Successfully installed ivy-models\n",
            "Looking in indexes: https://pypi.org/simple, https://us-python.pkg.dev/colab-wheels/public/simple/\n",
            "Requirement already satisfied: torchvision in /usr/local/lib/python3.10/dist-packages (0.15.2+cu118)\n",
            "Requirement already satisfied: numpy in /usr/local/lib/python3.10/dist-packages (from torchvision) (1.22.4)\n",
            "Requirement already satisfied: requests in /usr/local/lib/python3.10/dist-packages (from torchvision) (2.27.1)\n",
            "Requirement already satisfied: torch==2.0.1 in /usr/local/lib/python3.10/dist-packages (from torchvision) (2.0.1+cu118)\n",
            "Requirement already satisfied: pillow!=8.3.*,>=5.3.0 in /usr/local/lib/python3.10/dist-packages (from torchvision) (8.4.0)\n",
            "Requirement already satisfied: filelock in /usr/local/lib/python3.10/dist-packages (from torch==2.0.1->torchvision) (3.12.0)\n",
            "Requirement already satisfied: typing-extensions in /usr/local/lib/python3.10/dist-packages (from torch==2.0.1->torchvision) (4.5.0)\n",
            "Requirement already satisfied: sympy in /usr/local/lib/python3.10/dist-packages (from torch==2.0.1->torchvision) (1.11.1)\n",
            "Requirement already satisfied: networkx in /usr/local/lib/python3.10/dist-packages (from torch==2.0.1->torchvision) (3.1)\n",
            "Requirement already satisfied: jinja2 in /usr/local/lib/python3.10/dist-packages (from torch==2.0.1->torchvision) (3.1.2)\n",
            "Requirement already satisfied: triton==2.0.0 in /usr/local/lib/python3.10/dist-packages (from torch==2.0.1->torchvision) (2.0.0)\n",
            "Requirement already satisfied: cmake in /usr/local/lib/python3.10/dist-packages (from triton==2.0.0->torch==2.0.1->torchvision) (3.25.2)\n",
            "Requirement already satisfied: lit in /usr/local/lib/python3.10/dist-packages (from triton==2.0.0->torch==2.0.1->torchvision) (16.0.5)\n",
            "Requirement already satisfied: urllib3<1.27,>=1.21.1 in /usr/local/lib/python3.10/dist-packages (from requests->torchvision) (1.26.15)\n",
            "Requirement already satisfied: certifi>=2017.4.17 in /usr/local/lib/python3.10/dist-packages (from requests->torchvision) (2022.12.7)\n",
            "Requirement already satisfied: charset-normalizer~=2.0.0 in /usr/local/lib/python3.10/dist-packages (from requests->torchvision) (2.0.12)\n",
            "Requirement already satisfied: idna<4,>=2.5 in /usr/local/lib/python3.10/dist-packages (from requests->torchvision) (3.4)\n",
            "Requirement already satisfied: MarkupSafe>=2.0 in /usr/local/lib/python3.10/dist-packages (from jinja2->torch==2.0.1->torchvision) (2.1.2)\n",
            "Requirement already satisfied: mpmath>=0.19 in /usr/local/lib/python3.10/dist-packages (from sympy->torch==2.0.1->torchvision) (1.3.0)\n"
          ]
        }
      ],
      "source": [
        "!git clone https://github.com/unifyai/ivy.git\n",
        "!cd ivy && python3 -m pip install -e .\n",
        "\n",
        "!git clone https://github.com/unifyai/models.git\n",
        "!cd models && python3 -m pip install -e .\n",
        "\n",
        "! python3 -m pip install torchvision"
      ]
    },
    {
      "cell_type": "markdown",
      "metadata": {
        "id": "vPsIlrgOjxPI"
      },
      "source": [
        "To use the compiler and the transpiler now you will need an API Key. If you already have one, you should replace the string in the next cell."
      ]
    },
    {
      "cell_type": "code",
      "execution_count": 2,
      "metadata": {
        "id": "DwOGO8tojxtp"
      },
      "outputs": [],
      "source": [
        "API_KEY = \"PASTE_YOUR_KEY_HERE\""
      ]
    },
    {
      "cell_type": "code",
      "execution_count": 3,
      "metadata": {
        "id": "ez7a4h2rj9dL"
      },
      "outputs": [],
      "source": [
        "!mkdir -p .ivy\n",
        "!echo -n $API_KEY > .ivy/key.pem"
      ]
    },
    {
      "cell_type": "markdown",
      "metadata": {
        "id": "cvu7QmtyTRpp"
      },
      "source": [
        "## Imports"
      ]
    },
    {
      "cell_type": "code",
      "execution_count": 4,
      "metadata": {
        "colab": {
          "base_uri": "https://localhost:8080/"
        },
        "id": "bZQ4mWL9TRpp",
        "outputId": "af40b7fd-e278-4a3a-f304-6a4771edd42b"
      },
      "outputs": [
        {
          "name": "stderr",
          "output_type": "stream",
          "text": [
            "WARNING:root:To preserve the compiler and transpiler caches across multiple machines, ensure that the relative path of your projects from the .ivy folder is consistent across all machines. You can do this by adding .ivy to your home folder and placing all projects in the same place relative to the home folder on all machines.\n"
          ]
        },
        {
          "name": "stdout",
          "output_type": "stream",
          "text": [
            "Alpha access\n"
          ]
        }
      ],
      "source": [
        "import ivy\n",
        "import torch"
      ]
    },
    {
      "cell_type": "markdown",
      "metadata": {
        "id": "tA8f-_TAmt4I"
      },
      "source": [
        "## Data Preparation"
      ]
    },
    {
      "cell_type": "markdown",
      "metadata": {
        "id": "uIZaEVSahw-D"
      },
      "source": [
        "### Prepare the set of labels"
      ]
    },
    {
      "cell_type": "markdown",
      "metadata": {
        "id": "GLeb1vEoh82z"
      },
      "source": [
        "To show the predicted category, we download the labels associated with the pretrained weights."
      ]
    },
    {
      "cell_type": "code",
      "execution_count": 10,
      "metadata": {
        "colab": {
          "base_uri": "https://localhost:8080/"
        },
        "id": "FxcG9Si5eDxG",
        "outputId": "8186508f-d8a6-4b6e-ca4d-38161d8b32a3"
      },
      "outputs": [
        {
          "name": "stdout",
          "output_type": "stream",
          "text": [
            "--2023-05-19 15:19:16--  https://raw.githubusercontent.com/pytorch/hub/master/imagenet_classes.txt\n",
            "Resolving raw.githubusercontent.com (raw.githubusercontent.com)... 185.199.108.133, 185.199.109.133, 185.199.110.133, ...\n",
            "Connecting to raw.githubusercontent.com (raw.githubusercontent.com)|185.199.108.133|:443... connected.\n",
            "HTTP request sent, awaiting response... 200 OK\n",
            "Length: 10472 (10K) [text/plain]\n",
            "Saving to: ‘imagenet_classes.txt.1’\n",
            "\n",
            "\rimagenet_classes.tx   0%[                    ]       0  --.-KB/s               \rimagenet_classes.tx 100%[===================>]  10.23K  --.-KB/s    in 0s      \n",
            "\n",
            "2023-05-19 15:19:16 (41.6 MB/s) - ‘imagenet_classes.txt.1’ saved [10472/10472]\n",
            "\n"
          ]
        }
      ],
      "source": [
        "!wget https://raw.githubusercontent.com/pytorch/hub/master/imagenet_classes.txt"
      ]
    },
    {
      "cell_type": "markdown",
      "metadata": {
        "id": "MnzSiEn-iFdl"
      },
      "source": [
        "The labels are then loaded into a Python list."
      ]
    },
    {
      "cell_type": "code",
      "execution_count": 11,
      "metadata": {
        "id": "vbkNVwnKeJ8M"
      },
      "outputs": [],
      "source": [
        "# Read the categories\n",
        "with open(\"imagenet_classes.txt\", \"r\") as f:\n",
        "    categories = [s.strip() for s in f.readlines()]"
      ]
    },
    {
      "cell_type": "markdown",
      "metadata": {
        "id": "UwigA7VgTRpr"
      },
      "source": [
        "### Load the image example 🖼️"
      ]
    },
    {
      "cell_type": "code",
      "execution_count": 12,
      "metadata": {
        "id": "JMe6w_GDTRpr"
      },
      "outputs": [],
      "source": [
        "# import numpy to load the image example .npy\n",
        "import numpy as np \n",
        "img_path = \"models/ivy_models_tests/img_resnet.npy\"\n",
        "img = np.load(img_path)"
      ]
    },
    {
      "cell_type": "markdown",
      "metadata": {
        "id": "Tzn0aSCbnPJC"
      },
      "source": [
        "## Model Inference"
      ]
    },
    {
      "cell_type": "markdown",
      "metadata": {
        "id": "Jc_tuvtQgSR5"
      },
      "source": [
        "### Initializing Native Torch ResNet18"
      ]
    },
    {
      "cell_type": "code",
      "execution_count": 5,
      "metadata": {
        "id": "EaSzlcmwgcJq"
      },
      "outputs": [],
      "source": [
        "from torchvision.models import resnet18, ResNet18_Weights\n",
        "torch_resnet = resnet18(weights=ResNet18_Weights.IMAGENET1K_V1)"
      ]
    },
    {
      "cell_type": "markdown",
      "metadata": {
        "id": "A3D9ZWPLTRpp"
      },
      "source": [
        "### Initializing Ivy ResNet18 wiht Pretrained Weights through Ivy Container ⬇️"
      ]
    },
    {
      "cell_type": "markdown",
      "metadata": {
        "id": "sLPGXXgJgmJg"
      },
      "source": [
        "The pickled weights are loaded into `Ivy ResNet` as `ivy.Container`."
      ]
    },
    {
      "cell_type": "code",
      "execution_count": 6,
      "metadata": {
        "id": "sohZNbQmTRpp"
      },
      "outputs": [],
      "source": [
        "# equivalent to ResNet18_Weights.IMAGENET1K_V1\n",
        "pretrained_weights_path = \"models/ivy_models/resnet/pretrained_weights/resnet_18.pickled\" "
      ]
    },
    {
      "cell_type": "code",
      "execution_count": 7,
      "metadata": {
        "id": "d2w9HB6aTRpr"
      },
      "outputs": [],
      "source": [
        "weights = ivy.Container.cont_from_disk_as_pickled(pretrained_weights_path) "
      ]
    },
    {
      "cell_type": "markdown",
      "metadata": {
        "id": "fX4LJsaETRpr"
      },
      "source": [
        "The model is then initialized with the Pretrained Weights 🔗."
      ]
    },
    {
      "cell_type": "code",
      "execution_count": 21,
      "metadata": {
        "colab": {
          "base_uri": "https://localhost:8080/"
        },
        "id": "pWZlDN-OTRpr",
        "outputId": "1cf52bf8-2c2d-403f-cf03-bd756ef2d2a5"
      },
      "outputs": [
        {
          "name": "stderr",
          "output_type": "stream",
          "text": [
            "WARNING:root:NumPy does not support autograd, declaring a 'variable' is identical to declaring an 'array' when using numpy backend.\n",
            "WARNING:root:NumPy does not support autograd, declaring a 'variable' is identical to declaring an 'array' when using numpy backend.\n",
            "WARNING:root:NumPy does not support autograd, declaring a 'variable' is identical to declaring an 'array' when using numpy backend.\n",
            "WARNING:root:NumPy does not support autograd, declaring a 'variable' is identical to declaring an 'array' when using numpy backend.\n",
            "WARNING:root:NumPy does not support autograd, declaring a 'variable' is identical to declaring an 'array' when using numpy backend.\n",
            "WARNING:root:NumPy does not support autograd, declaring a 'variable' is identical to declaring an 'array' when using numpy backend.\n",
            "WARNING:root:NumPy does not support autograd, declaring a 'variable' is identical to declaring an 'array' when using numpy backend.\n",
            "WARNING:root:NumPy does not support autograd, declaring a 'variable' is identical to declaring an 'array' when using numpy backend.\n",
            "WARNING:root:NumPy does not support autograd, declaring a 'variable' is identical to declaring an 'array' when using numpy backend.\n",
            "WARNING:root:NumPy does not support autograd, declaring a 'variable' is identical to declaring an 'array' when using numpy backend.\n",
            "WARNING:root:NumPy does not support autograd, declaring a 'variable' is identical to declaring an 'array' when using numpy backend.\n",
            "WARNING:root:NumPy does not support autograd, declaring a 'variable' is identical to declaring an 'array' when using numpy backend.\n",
            "WARNING:root:NumPy does not support autograd, declaring a 'variable' is identical to declaring an 'array' when using numpy backend.\n",
            "WARNING:root:NumPy does not support autograd, declaring a 'variable' is identical to declaring an 'array' when using numpy backend.\n",
            "WARNING:root:NumPy does not support autograd, declaring a 'variable' is identical to declaring an 'array' when using numpy backend.\n",
            "WARNING:root:NumPy does not support autograd, declaring a 'variable' is identical to declaring an 'array' when using numpy backend.\n",
            "WARNING:root:NumPy does not support autograd, declaring a 'variable' is identical to declaring an 'array' when using numpy backend.\n",
            "WARNING:root:NumPy does not support autograd, declaring a 'variable' is identical to declaring an 'array' when using numpy backend.\n",
            "WARNING:root:NumPy does not support autograd, declaring a 'variable' is identical to declaring an 'array' when using numpy backend.\n",
            "WARNING:root:NumPy does not support autograd, declaring a 'variable' is identical to declaring an 'array' when using numpy backend.\n",
            "WARNING:root:NumPy does not support autograd, declaring a 'variable' is identical to declaring an 'array' when using numpy backend.\n",
            "WARNING:root:NumPy does not support autograd, declaring a 'variable' is identical to declaring an 'array' when using numpy backend.\n",
            "WARNING:root:NumPy does not support autograd, declaring a 'variable' is identical to declaring an 'array' when using numpy backend.\n",
            "WARNING:root:NumPy does not support autograd, declaring a 'variable' is identical to declaring an 'array' when using numpy backend.\n",
            "WARNING:root:NumPy does not support autograd, declaring a 'variable' is identical to declaring an 'array' when using numpy backend.\n",
            "WARNING:root:NumPy does not support autograd, declaring a 'variable' is identical to declaring an 'array' when using numpy backend.\n",
            "WARNING:root:NumPy does not support autograd, declaring a 'variable' is identical to declaring an 'array' when using numpy backend.\n",
            "WARNING:root:NumPy does not support autograd, declaring a 'variable' is identical to declaring an 'array' when using numpy backend.\n",
            "WARNING:root:NumPy does not support autograd, declaring a 'variable' is identical to declaring an 'array' when using numpy backend.\n",
            "WARNING:root:NumPy does not support autograd, declaring a 'variable' is identical to declaring an 'array' when using numpy backend.\n",
            "WARNING:root:NumPy does not support autograd, declaring a 'variable' is identical to declaring an 'array' when using numpy backend.\n",
            "WARNING:root:NumPy does not support autograd, declaring a 'variable' is identical to declaring an 'array' when using numpy backend.\n",
            "WARNING:root:NumPy does not support autograd, declaring a 'variable' is identical to declaring an 'array' when using numpy backend.\n",
            "WARNING:root:NumPy does not support autograd, declaring a 'variable' is identical to declaring an 'array' when using numpy backend.\n",
            "WARNING:root:NumPy does not support autograd, declaring a 'variable' is identical to declaring an 'array' when using numpy backend.\n",
            "WARNING:root:NumPy does not support autograd, declaring a 'variable' is identical to declaring an 'array' when using numpy backend.\n",
            "WARNING:root:NumPy does not support autograd, declaring a 'variable' is identical to declaring an 'array' when using numpy backend.\n",
            "WARNING:root:NumPy does not support autograd, declaring a 'variable' is identical to declaring an 'array' when using numpy backend.\n",
            "WARNING:root:NumPy does not support autograd, declaring a 'variable' is identical to declaring an 'array' when using numpy backend.\n",
            "WARNING:root:NumPy does not support autograd, declaring a 'variable' is identical to declaring an 'array' when using numpy backend.\n",
            "WARNING:root:NumPy does not support autograd, declaring a 'variable' is identical to declaring an 'array' when using numpy backend.\n",
            "WARNING:root:NumPy does not support autograd, declaring a 'variable' is identical to declaring an 'array' when using numpy backend.\n",
            "WARNING:root:NumPy does not support autograd, declaring a 'variable' is identical to declaring an 'array' when using numpy backend.\n",
            "WARNING:root:NumPy does not support autograd, declaring a 'variable' is identical to declaring an 'array' when using numpy backend.\n",
            "WARNING:root:NumPy does not support autograd, declaring a 'variable' is identical to declaring an 'array' when using numpy backend.\n",
            "WARNING:root:NumPy does not support autograd, declaring a 'variable' is identical to declaring an 'array' when using numpy backend.\n",
            "WARNING:root:NumPy does not support autograd, declaring a 'variable' is identical to declaring an 'array' when using numpy backend.\n",
            "WARNING:root:NumPy does not support autograd, declaring a 'variable' is identical to declaring an 'array' when using numpy backend.\n",
            "WARNING:root:NumPy does not support autograd, declaring a 'variable' is identical to declaring an 'array' when using numpy backend.\n",
            "WARNING:root:NumPy does not support autograd, declaring a 'variable' is identical to declaring an 'array' when using numpy backend.\n",
            "WARNING:root:NumPy does not support autograd, declaring a 'variable' is identical to declaring an 'array' when using numpy backend.\n",
            "WARNING:root:NumPy does not support autograd, declaring a 'variable' is identical to declaring an 'array' when using numpy backend.\n",
            "WARNING:root:NumPy does not support autograd, declaring a 'variable' is identical to declaring an 'array' when using numpy backend.\n",
            "WARNING:root:NumPy does not support autograd, declaring a 'variable' is identical to declaring an 'array' when using numpy backend.\n",
            "WARNING:root:NumPy does not support autograd, declaring a 'variable' is identical to declaring an 'array' when using numpy backend.\n",
            "WARNING:root:NumPy does not support autograd, declaring a 'variable' is identical to declaring an 'array' when using numpy backend.\n",
            "WARNING:root:NumPy does not support autograd, declaring a 'variable' is identical to declaring an 'array' when using numpy backend.\n",
            "WARNING:root:NumPy does not support autograd, declaring a 'variable' is identical to declaring an 'array' when using numpy backend.\n",
            "WARNING:root:NumPy does not support autograd, declaring a 'variable' is identical to declaring an 'array' when using numpy backend.\n",
            "WARNING:root:NumPy does not support autograd, declaring a 'variable' is identical to declaring an 'array' when using numpy backend.\n",
            "WARNING:root:NumPy does not support autograd, declaring a 'variable' is identical to declaring an 'array' when using numpy backend.\n",
            "WARNING:root:NumPy does not support autograd, declaring a 'variable' is identical to declaring an 'array' when using numpy backend.\n",
            "WARNING:root:NumPy does not support autograd, declaring a 'variable' is identical to declaring an 'array' when using numpy backend.\n",
            "WARNING:root:NumPy does not support autograd, declaring a 'variable' is identical to declaring an 'array' when using numpy backend.\n",
            "WARNING:root:NumPy does not support autograd, declaring a 'variable' is identical to declaring an 'array' when using numpy backend.\n",
            "WARNING:root:NumPy does not support autograd, declaring a 'variable' is identical to declaring an 'array' when using numpy backend.\n",
            "WARNING:root:NumPy does not support autograd, declaring a 'variable' is identical to declaring an 'array' when using numpy backend.\n",
            "WARNING:root:NumPy does not support autograd, declaring a 'variable' is identical to declaring an 'array' when using numpy backend.\n",
            "WARNING:root:NumPy does not support autograd, declaring a 'variable' is identical to declaring an 'array' when using numpy backend.\n",
            "WARNING:root:NumPy does not support autograd, declaring a 'variable' is identical to declaring an 'array' when using numpy backend.\n",
            "WARNING:root:NumPy does not support autograd, declaring a 'variable' is identical to declaring an 'array' when using numpy backend.\n",
            "WARNING:root:NumPy does not support autograd, declaring a 'variable' is identical to declaring an 'array' when using numpy backend.\n",
            "WARNING:root:NumPy does not support autograd, declaring a 'variable' is identical to declaring an 'array' when using numpy backend.\n",
            "WARNING:root:NumPy does not support autograd, declaring a 'variable' is identical to declaring an 'array' when using numpy backend.\n",
            "WARNING:root:NumPy does not support autograd, declaring a 'variable' is identical to declaring an 'array' when using numpy backend.\n",
            "WARNING:root:NumPy does not support autograd, declaring a 'variable' is identical to declaring an 'array' when using numpy backend.\n",
            "WARNING:root:NumPy does not support autograd, declaring a 'variable' is identical to declaring an 'array' when using numpy backend.\n",
            "WARNING:root:NumPy does not support autograd, declaring a 'variable' is identical to declaring an 'array' when using numpy backend.\n",
            "WARNING:root:NumPy does not support autograd, declaring a 'variable' is identical to declaring an 'array' when using numpy backend.\n",
            "WARNING:root:NumPy does not support autograd, declaring a 'variable' is identical to declaring an 'array' when using numpy backend.\n",
            "WARNING:root:NumPy does not support autograd, declaring a 'variable' is identical to declaring an 'array' when using numpy backend.\n",
            "WARNING:root:NumPy does not support autograd, declaring a 'variable' is identical to declaring an 'array' when using numpy backend.\n",
            "WARNING:root:NumPy does not support autograd, declaring a 'variable' is identical to declaring an 'array' when using numpy backend.\n",
            "WARNING:root:NumPy does not support autograd, declaring a 'variable' is identical to declaring an 'array' when using numpy backend.\n",
            "WARNING:root:NumPy does not support autograd, declaring a 'variable' is identical to declaring an 'array' when using numpy backend.\n",
            "WARNING:root:NumPy does not support autograd, declaring a 'variable' is identical to declaring an 'array' when using numpy backend.\n",
            "WARNING:root:NumPy does not support autograd, declaring a 'variable' is identical to declaring an 'array' when using numpy backend.\n",
            "WARNING:root:NumPy does not support autograd, declaring a 'variable' is identical to declaring an 'array' when using numpy backend.\n",
            "WARNING:root:NumPy does not support autograd, declaring a 'variable' is identical to declaring an 'array' when using numpy backend.\n",
            "WARNING:root:NumPy does not support autograd, declaring a 'variable' is identical to declaring an 'array' when using numpy backend.\n",
            "WARNING:root:NumPy does not support autograd, declaring a 'variable' is identical to declaring an 'array' when using numpy backend.\n",
            "WARNING:root:NumPy does not support autograd, declaring a 'variable' is identical to declaring an 'array' when using numpy backend.\n",
            "WARNING:root:NumPy does not support autograd, declaring a 'variable' is identical to declaring an 'array' when using numpy backend.\n",
            "WARNING:root:NumPy does not support autograd, declaring a 'variable' is identical to declaring an 'array' when using numpy backend.\n",
            "WARNING:root:NumPy does not support autograd, declaring a 'variable' is identical to declaring an 'array' when using numpy backend.\n",
            "WARNING:root:NumPy does not support autograd, declaring a 'variable' is identical to declaring an 'array' when using numpy backend.\n",
            "WARNING:root:NumPy does not support autograd, declaring a 'variable' is identical to declaring an 'array' when using numpy backend.\n",
            "WARNING:root:NumPy does not support autograd, declaring a 'variable' is identical to declaring an 'array' when using numpy backend.\n",
            "WARNING:root:NumPy does not support autograd, declaring a 'variable' is identical to declaring an 'array' when using numpy backend.\n",
            "WARNING:root:NumPy does not support autograd, declaring a 'variable' is identical to declaring an 'array' when using numpy backend.\n",
            "WARNING:root:NumPy does not support autograd, declaring a 'variable' is identical to declaring an 'array' when using numpy backend.\n",
            "WARNING:root:NumPy does not support autograd, declaring a 'variable' is identical to declaring an 'array' when using numpy backend.\n"
          ]
        }
      ],
      "source": [
        "# load the resnet18 model from ivy_models\n",
        "from ivy_models.resnet import resnet_18 \n",
        "ivy_resnet = resnet_18(v=weights) "
      ]
    },
    {
      "cell_type": "markdown",
      "metadata": {
        "id": "Hj7YQf7SkFpb"
      },
      "source": [
        "Compile the forward pass for efficiency. \\\n",
        "PS: Comment out the code below if you don't have an API key."
      ]
    },
    {
      "cell_type": "code",
      "execution_count": 22,
      "metadata": {
        "id": "7Y21EucPkM-a"
      },
      "outputs": [],
      "source": [
        "ivy.set_backend('numpy')\n",
        "ivy_resnet.compile(args=(img,))"
      ]
    },
    {
      "cell_type": "markdown",
      "metadata": {
        "id": "yAVTh6WGTRpr"
      },
      "source": [
        "### Use the model to classify your images 🚀"
      ]
    },
    {
      "cell_type": "markdown",
      "metadata": {
        "id": "MHF2npjehdk5"
      },
      "source": [
        "For comparison, both results from `Torch ResNet18` and `Ivy ResNet18` are shown below."
      ]
    },
    {
      "cell_type": "markdown",
      "metadata": {
        "id": "LPDYddSaiMe-"
      },
      "source": [
        "1. Torch ResNet18"
      ]
    },
    {
      "cell_type": "code",
      "execution_count": 23,
      "metadata": {
        "colab": {
          "base_uri": "https://localhost:8080/"
        },
        "id": "ef7eeVFXcH6U",
        "outputId": "56ba24b2-0ac4-4890-f9d9-5c3f984b4b2c"
      },
      "outputs": [
        {
          "name": "stdout",
          "output_type": "stream",
          "text": [
            "Indices of the top 4 classes are: tensor([412, 731, 600, 463])\n",
            "Logits of the top 4 classes are: tensor([0.0055, 0.0064, 0.0065, 0.0082], grad_fn=<TakeBackward0>)\n",
            "Categories of the top 4 classes are: ['ashcan', 'plunger', 'hook', 'bucket']\n"
          ]
        }
      ],
      "source": [
        "torch_output = torch.softmax(torch_resnet(torch.from_numpy(img).reshape(1, 3, 224, 224)), dim=1)\n",
        "torch_classes = torch.argsort(torch_output[0])[-4:]\n",
        "torch_logits = torch.take(torch_output[0], torch_classes)\n",
        "\n",
        "print(\"Indices of the top 4 classes are:\", torch_classes)\n",
        "print(\"Logits of the top 4 classes are:\", torch_logits)\n",
        "print(\"Categories of the top 4 classes are:\", [categories[i] for i in torch_classes])"
      ]
    },
    {
      "cell_type": "markdown",
      "metadata": {
        "id": "btRBTJ1diPNt"
      },
      "source": [
        "2. Ivy ResNet18"
      ]
    },
    {
      "cell_type": "code",
      "execution_count": 24,
      "metadata": {
        "colab": {
          "base_uri": "https://localhost:8080/"
        },
        "id": "iyyJCAa5TRps",
        "outputId": "b59bb626-017d-418f-c93f-72dec30fec7d"
      },
      "outputs": [
        {
          "name": "stdout",
          "output_type": "stream",
          "text": [
            "Indices of the top 4 classes are: tensor([412, 731, 600, 463])\n",
            "Logits of the top 4 classes are: [0.00549888 0.005922   0.00626743 0.00846343]\n",
            "Categories of the top 4 classes are: ['ashcan', 'plunger', 'hook', 'bucket']\n"
          ]
        }
      ],
      "source": [
        "output = ivy.softmax(ivy_resnet(img)[\"w\"])  # pass the image to the model\n",
        "classes = np.argsort(output[0])[-4:]  # get the top 4 classes\n",
        "logits = np.take(output[0], classes)  # get the logits\n",
        "\n",
        "print(\"Indices of the top 4 classes are:\", torch_classes)\n",
        "print(\"Logits of the top 4 classes are:\", logits)\n",
        "print(\"Categories of the top 4 classes are:\", [categories[i] for i in torch_classes])"
      ]
    }
  ],
  "metadata": {
    "colab": {
      "provenance": []
    },
    "kernelspec": {
      "display_name": "Python 3",
      "language": "python",
      "name": "python3"
    },
    "language_info": {
      "name": "python",
      "version": "3.8.16"
    },
    "orig_nbformat": 4
  },
  "nbformat": 4,
  "nbformat_minor": 0
}
