{
  "cells": [
    {
      "attachments": {},
      "cell_type": "markdown",
      "metadata": {
        "id": "H2dI5NJfTRpj"
      },
      "source": [
        "# Using Ivy ResNet18"
      ]
    },
    {
      "attachments": {},
      "cell_type": "markdown",
      "metadata": {
        "id": "rP2wZ8RtTRpm"
      },
      "source": [
        "Use the Ivy `ResNet18` model for image classification."
      ]
    },
    {
      "attachments": {},
      "cell_type": "markdown",
      "metadata": {
        "id": "dBlrOFuETRpm"
      },
      "source": [
        "If you already have `Ivy` and `Ivy Models` installed you can skip this cell, but if you are using Colab, you will have to install `Ivy` and `Ivy Models` manually. You can do so by running the cell below ⬇️\n",
        "\n",
        "Keep in mind that for the package to be available, you will have to click on **\"Runtime > Restart Runtime\"** 😄"
      ]
    },
    {
      "cell_type": "code",
      "execution_count": null,
      "metadata": {
        "colab": {
          "base_uri": "https://localhost:8080/"
        },
        "id": "9TBvJ5p_TRpn",
        "outputId": "78d1104b-43ce-4146-f4f2-ae4291636bed"
      },
      "outputs": [],
      "source": [
        "!git clone https://github.com/unifyai/ivy.git\n",
        "!cd ivy && git checkout 5cbfea51b617c5fd6e17b6a508f1d67134775670 && python3 -m pip install -e .\n",
        "\n",
        "!git clone https://github.com/unifyai/models.git\n",
        "!cd models && python3 -m pip install -e .\n",
        "\n",
        "! python3 -m pip install torchvision"
      ]
    },
    {
      "attachments": {},
      "cell_type": "markdown",
      "metadata": {
        "id": "vPsIlrgOjxPI"
      },
      "source": [
        "To use the compiler and the transpiler now you will need an API Key. If you already have one, you should replace the string in the next cell."
      ]
    },
    {
      "cell_type": "code",
      "execution_count": 2,
      "metadata": {
        "id": "DwOGO8tojxtp"
      },
      "outputs": [],
      "source": [
        "API_KEY = \"PASTE_YOUR_KEY_HERE\""
      ]
    },
    {
      "cell_type": "code",
      "execution_count": 3,
      "metadata": {
        "id": "ez7a4h2rj9dL"
      },
      "outputs": [],
      "source": [
        "!mkdir -p .ivy\n",
        "!echo -n $API_KEY > .ivy/key.pem"
      ]
    },
    {
      "attachments": {},
      "cell_type": "markdown",
      "metadata": {
        "id": "cvu7QmtyTRpp"
      },
      "source": [
        "## Imports"
      ]
    },
    {
      "cell_type": "code",
      "execution_count": null,
      "metadata": {
        "colab": {
          "base_uri": "https://localhost:8080/"
        },
        "id": "bZQ4mWL9TRpp",
        "outputId": "af40b7fd-e278-4a3a-f304-6a4771edd42b"
      },
      "outputs": [],
      "source": [
        "import ivy\n",
        "import torch"
      ]
    },
    {
      "attachments": {},
      "cell_type": "markdown",
      "metadata": {
        "id": "tA8f-_TAmt4I"
      },
      "source": [
        "## Data Preparation"
      ]
    },
    {
      "attachments": {},
      "cell_type": "markdown",
      "metadata": {
        "id": "uIZaEVSahw-D"
      },
      "source": [
        "### Prepare the set of labels"
      ]
    },
    {
      "attachments": {},
      "cell_type": "markdown",
      "metadata": {
        "id": "GLeb1vEoh82z"
      },
      "source": [
        "To show the predicted category, we download the labels associated with the pretrained weights."
      ]
    },
    {
      "cell_type": "code",
      "execution_count": null,
      "metadata": {
        "colab": {
          "base_uri": "https://localhost:8080/"
        },
        "id": "FxcG9Si5eDxG",
        "outputId": "8186508f-d8a6-4b6e-ca4d-38161d8b32a3"
      },
      "outputs": [],
      "source": [
        "!wget https://raw.githubusercontent.com/pytorch/hub/master/imagenet_classes.txt"
      ]
    },
    {
      "attachments": {},
      "cell_type": "markdown",
      "metadata": {
        "id": "MnzSiEn-iFdl"
      },
      "source": [
        "The labels are then loaded into a Python list."
      ]
    },
    {
      "cell_type": "code",
      "execution_count": 11,
      "metadata": {
        "id": "vbkNVwnKeJ8M"
      },
      "outputs": [],
      "source": [
        "# Read the categories\n",
        "with open(\"imagenet_classes.txt\", \"r\") as f:\n",
        "    categories = [s.strip() for s in f.readlines()]"
      ]
    },
    {
      "attachments": {},
      "cell_type": "markdown",
      "metadata": {
        "id": "UwigA7VgTRpr"
      },
      "source": [
        "### Load the image example 🖼️"
      ]
    },
    {
      "cell_type": "code",
      "execution_count": 12,
      "metadata": {
        "id": "JMe6w_GDTRpr"
      },
      "outputs": [],
      "source": [
        "# import numpy to load the image example .npy\n",
        "import numpy as np \n",
        "img_path = \"models/ivy_models_tests/img_resnet.npy\"\n",
        "img = np.load(img_path)"
      ]
    },
    {
      "attachments": {},
      "cell_type": "markdown",
      "metadata": {
        "id": "Tzn0aSCbnPJC"
      },
      "source": [
        "## Model Inference"
      ]
    },
    {
      "attachments": {},
      "cell_type": "markdown",
      "metadata": {
        "id": "Jc_tuvtQgSR5"
      },
      "source": [
        "### Initializing Native Torch ResNet18"
      ]
    },
    {
      "cell_type": "code",
      "execution_count": 5,
      "metadata": {
        "id": "EaSzlcmwgcJq"
      },
      "outputs": [],
      "source": [
        "from torchvision.models import resnet18, ResNet18_Weights\n",
        "torch_resnet = resnet18(weights=ResNet18_Weights.IMAGENET1K_V1)"
      ]
    },
    {
      "attachments": {},
      "cell_type": "markdown",
      "metadata": {
        "id": "A3D9ZWPLTRpp"
      },
      "source": [
        "### Initializing Ivy ResNet18 with Pretrained Weights through Ivy Container ⬇️"
      ]
    },
    {
      "attachments": {},
      "cell_type": "markdown",
      "metadata": {
        "id": "sLPGXXgJgmJg"
      },
      "source": [
        "The pickled weights are loaded into `Ivy ResNet` as `ivy.Container`."
      ]
    },
    {
      "cell_type": "code",
      "execution_count": 6,
      "metadata": {
        "id": "sohZNbQmTRpp"
      },
      "outputs": [],
      "source": [
        "# equivalent to ResNet18_Weights.IMAGENET1K_V1\n",
        "pretrained_weights_path = \"models/ivy_models/resnet/pretrained_weights/resnet_18.pickled\" "
      ]
    },
    {
      "cell_type": "code",
      "execution_count": 7,
      "metadata": {
        "id": "d2w9HB6aTRpr"
      },
      "outputs": [],
      "source": [
        "weights = ivy.Container.cont_from_disk_as_pickled(pretrained_weights_path) "
      ]
    },
    {
      "attachments": {},
      "cell_type": "markdown",
      "metadata": {
        "id": "fX4LJsaETRpr"
      },
      "source": [
        "The model is then initialized with the Pretrained Weights 🔗."
      ]
    },
    {
      "cell_type": "code",
      "execution_count": null,
      "metadata": {
        "colab": {
          "base_uri": "https://localhost:8080/"
        },
        "id": "pWZlDN-OTRpr",
        "outputId": "1cf52bf8-2c2d-403f-cf03-bd756ef2d2a5"
      },
      "outputs": [],
      "source": [
        "# load the resnet18 model from ivy_models\n",
        "from ivy_models.resnet import resnet_18 \n",
        "ivy_resnet = resnet_18(v=weights) "
      ]
    },
    {
      "attachments": {},
      "cell_type": "markdown",
      "metadata": {
        "id": "Hj7YQf7SkFpb"
      },
      "source": [
        "Compile the forward pass for efficiency. \\\n",
        "PS: Comment out the code below if you don't have an API key."
      ]
    },
    {
      "cell_type": "code",
      "execution_count": 22,
      "metadata": {
        "id": "7Y21EucPkM-a"
      },
      "outputs": [],
      "source": [
        "ivy.set_backend('torch')\n",
        "ivy_resnet.compile(args=(img,))"
      ]
    },
    {
      "attachments": {},
      "cell_type": "markdown",
      "metadata": {
        "id": "yAVTh6WGTRpr"
      },
      "source": [
        "### Use the model to classify your images 🚀"
      ]
    },
    {
      "attachments": {},
      "cell_type": "markdown",
      "metadata": {
        "id": "MHF2npjehdk5"
      },
      "source": [
        "For comparison, both results from `Torch ResNet18` and `Ivy ResNet18` are shown below."
      ]
    },
    {
      "attachments": {},
      "cell_type": "markdown",
      "metadata": {
        "id": "LPDYddSaiMe-"
      },
      "source": [
        "1. Torch ResNet18"
      ]
    },
    {
      "cell_type": "code",
      "execution_count": 23,
      "metadata": {
        "colab": {
          "base_uri": "https://localhost:8080/"
        },
        "id": "ef7eeVFXcH6U",
        "outputId": "56ba24b2-0ac4-4890-f9d9-5c3f984b4b2c"
      },
      "outputs": [
        {
          "name": "stdout",
          "output_type": "stream",
          "text": [
            "Indices of the top 4 classes are: tensor([412, 731, 600, 463])\n",
            "Logits of the top 4 classes are: tensor([0.0055, 0.0064, 0.0065, 0.0082], grad_fn=<TakeBackward0>)\n",
            "Categories of the top 4 classes are: ['ashcan', 'plunger', 'hook', 'bucket']\n"
          ]
        }
      ],
      "source": [
        "torch_output = torch.softmax(torch_resnet(torch.from_numpy(img).reshape(1, 3, 224, 224)), dim=1)\n",
        "torch_classes = torch.argsort(torch_output[0])[-4:]\n",
        "torch_logits = torch.take(torch_output[0], torch_classes)\n",
        "\n",
        "print(\"Indices of the top 4 classes are:\", torch_classes)\n",
        "print(\"Logits of the top 4 classes are:\", torch_logits)\n",
        "print(\"Categories of the top 4 classes are:\", [categories[i] for i in torch_classes])"
      ]
    },
    {
      "attachments": {},
      "cell_type": "markdown",
      "metadata": {
        "id": "btRBTJ1diPNt"
      },
      "source": [
        "2. Ivy ResNet18"
      ]
    },
    {
      "cell_type": "code",
      "execution_count": 24,
      "metadata": {
        "colab": {
          "base_uri": "https://localhost:8080/"
        },
        "id": "iyyJCAa5TRps",
        "outputId": "b59bb626-017d-418f-c93f-72dec30fec7d"
      },
      "outputs": [
        {
          "name": "stdout",
          "output_type": "stream",
          "text": [
            "Indices of the top 4 classes are: tensor([412, 731, 600, 463])\n",
            "Logits of the top 4 classes are: [0.00549888 0.005922   0.00626743 0.00846343]\n",
            "Categories of the top 4 classes are: ['ashcan', 'plunger', 'hook', 'bucket']\n"
          ]
        }
      ],
      "source": [
        "output = ivy.softmax(ivy_resnet(ivy.asarray(img))[\"w\"])  # pass the image to the model\n",
        "classes = ivy.argsort(output[0])[-4:]  # get the top 4 classes\n",
        "logits = ivy.gather(output[0], classes)  # get the logits\n",
        "\n",
        "print(\"Indices of the top 4 classes are:\", classes)\n",
        "print(\"Logits of the top 4 classes are:\", logits)\n",
        "print(\"Categories of the top 4 classes are:\", [categories[i] for i in classes.to_list()])"
      ]
    }
  ],
  "metadata": {
    "colab": {
      "provenance": []
    },
    "kernelspec": {
      "display_name": "Python 3",
      "language": "python",
      "name": "python3"
    },
    "language_info": {
      "name": "python",
      "version": "3.8.16"
    },
    "orig_nbformat": 4
  },
  "nbformat": 4,
  "nbformat_minor": 0
}
