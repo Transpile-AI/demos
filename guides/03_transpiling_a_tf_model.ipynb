{
  "cells": [
    {
      "cell_type": "markdown",
      "metadata": {
        "id": "r0J-_CN43iFB"
      },
      "source": [
        "# **Transpiling a Tensorflow model to build on top**"
      ]
    },
    {
      "cell_type": "markdown",
      "metadata": {
        "id": "Eg7DGGmT4iuF"
      },
      "source": [
        "Transpile a keras model to torch and build a new model around it.\n",
        "\n",
        "⚠️ If you are running this notebook in Colab, you will have to install Ivy and some dependencies manually. You can do so by running the cell below ⬇️\n",
        "\n",
        "If you want to run the notebook locally but don't have Ivy installed just yet, you can check out the Setting Up section of the docs."
      ]
    },
    {
      "cell_type": "code",
      "execution_count": null,
      "metadata": {
        "id": "xACzHp10hdTX"
      },
      "outputs": [],
      "source": [
        "\n",
        "!git clone https://github.com/unifyai/ivy.git\n",
        "!cd ivy && python3 -m pip install --user -e ."
      ]
    },
    {
      "cell_type": "markdown",
      "metadata": {
        "id": "Nig2sl_N4u8E"
      },
      "source": [
        "\n",
        "For the installed packages to be available you will have to restart your kernel. In Colab, you can do this by clicking on \"Runtime > Restart Runtime\". Once the runtime has been restarted you should skip the previous cell 😄\n",
        "\n",
        "To use the compiler and the transpiler now you will need an API Key. If you already have one, you should replace the string in the next cell."
      ]
    },
    {
      "cell_type": "code",
      "execution_count": null,
      "metadata": {
        "id": "9m78VOQOmYmX"
      },
      "outputs": [],
      "source": [
        "API_KEY = \"PASTE_YOUR_KEY_HERE\""
      ]
    },
    {
      "cell_type": "code",
      "execution_count": 1,
      "metadata": {
        "id": "FKoFJ5SyBKZ1"
      },
      "outputs": [],
      "source": [
        "!mkdir -p .ivy\n",
        "!echo -n $API_KEY > .ivy/key.pem"
      ]
    },
    {
      "attachments": {},
      "cell_type": "markdown",
      "metadata": {
        "id": "GQCDMTkx46Wm"
      },
      "source": [
        "In Transpile Any Model we have seen how to transpile a very simple model. In the Guides, we will focus on transpiling more involved models developed in different frameworks.\n",
        "\n",
        "In this first notebook, we will transpile a model from tf.keras to Torch, building a classifier on top of the resulting module.\n",
        "\n",
        "As usual, let's start with the imports."
      ]
    },
    {
      "cell_type": "code",
      "execution_count": 2,
      "metadata": {
        "colab": {
          "base_uri": "https://localhost:8080/"
        },
        "id": "21E0BUCSl6iu",
        "outputId": "85d67477-9784-4403-c77b-d804d889def5"
      },
      "outputs": [
        {
          "name": "stderr",
          "output_type": "stream",
          "text": [
            "WARNING:root:To preserve the compiler and transpiler caches across multiple machines, ensure that the relative path of your projects from the .ivy folder is consistent across all machines. You can do this by adding .ivy to your home folder and placing all projects in the same place relative to the home folder on all machines.\n"
          ]
        },
        {
          "name": "stdout",
          "output_type": "stream",
          "text": [
            "Alpha access\n"
          ]
        }
      ],
      "source": [
        "import ivy\n",
        "import torch\n",
        "\n",
        "import numpy as np\n",
        "import tensorflow as tf"
      ]
    },
    {
      "cell_type": "markdown",
      "metadata": {
        "id": "5-mJlrhz5SBi"
      },
      "source": [
        "Now, instead of building our own Keras model, we will get one directly from Keras.\n",
        "\n",
        "In this case, we are going to use a EfficientNet. We can download the pretrained weights with pretrained=True and set num_classes=0 to only retrieve the feature extractor."
      ]
    },
    {
      "cell_type": "code",
      "execution_count": 3,
      "metadata": {
        "colab": {
          "base_uri": "https://localhost:8080/"
        },
        "id": "v523P9hGqf-Y",
        "outputId": "7b1da773-d0cf-4c5e-d11f-73fff07b2178"
      },
      "outputs": [
        {
          "name": "stdout",
          "output_type": "stream",
          "text": [
            "Downloading data from https://storage.googleapis.com/tensorflow/keras-applications/efficientnet_v2/efficientnetv2-b0_notop.h5\n",
            "24274472/24274472 [==============================] - 0s 0us/step\n"
          ]
        }
      ],
      "source": [
        "# Get a pretrained keras model\n",
        "eff_encoder = tf.keras.applications.efficientnet_v2.EfficientNetV2B0(\n",
        "    include_top=False, weights=\"imagenet\", input_shape=(224, 224, 3)\n",
        ")"
      ]
    },
    {
      "cell_type": "markdown",
      "metadata": {
        "id": "wYT50RFT5mQx"
      },
      "source": [
        "Now, we will transpile the EfficientNet feature extractor to PyTorch using ivy.transpile and passing a sample tf.tensor with noise."
      ]
    },
    {
      "cell_type": "code",
      "execution_count": 5,
      "metadata": {
        "colab": {
          "base_uri": "https://localhost:8080/"
        },
        "id": "fML1OGasqs1o",
        "outputId": "6c50b926-00d1-4c9b-a4fe-c4bcc8a720ed"
      },
      "outputs": [
        {
          "name": "stderr",
          "output_type": "stream",
          "text": [
            "WARNING:tensorflow:From /usr/local/lib/python3.10/dist-packages/tensorflow/python/util/decorator_utils.py:153: GraphKeys.VARIABLES (from tensorflow.python.framework.ops) is deprecated and will be removed in a future version.\n",
            "Instructions for updating:\n",
            "Use `tf.GraphKeys.GLOBAL_VARIABLES` instead.\n"
          ]
        }
      ],
      "source": [
        "\n",
        "# Transpile it into a torch.nn.Module with the corresponding parameters\n",
        "noise = tf.random.normal(shape=(1, 224, 224, 3))\n",
        "torch_eff_encoder = ivy.transpile(eff_encoder, to=\"torch\", args=(noise,))"
      ]
    },
    {
      "cell_type": "markdown",
      "metadata": {
        "id": "koZ4UL_N6NFW"
      },
      "source": [
        "To ensure that the transpilation has been correct, let's check with a new input in both frameworks. Keep in mind that all the functions called within torch_eff_encoder are now Pytorch functions 🔀"
      ]
    },
    {
      "cell_type": "code",
      "execution_count": 6,
      "metadata": {
        "colab": {
          "base_uri": "https://localhost:8080/"
        },
        "id": "5OhKUmJemLkh",
        "outputId": "dd77938a-c983-4e78-f403-778e8e85a0ed"
      },
      "outputs": [
        {
          "name": "stdout",
          "output_type": "stream",
          "text": [
            "True\n"
          ]
        }
      ],
      "source": [
        "x = np.random.random(size=(1, 224, 224, 3)).astype(np.float32)\n",
        "output_tf = eff_encoder(tf.constant(x, dtype=tf.float32))\n",
        "output_torch = torch_eff_encoder(torch.tensor(x))\n",
        "print(np.allclose(output_tf , output_torch.detach().numpy(), rtol=1e-1))\n"
      ]
    },
    {
      "cell_type": "markdown",
      "metadata": {
        "id": "rqCjBz6k7Flv"
      },
      "source": [
        "Now, we can build or own classifier using the transpiled module as the feature extractor:"
      ]
    },
    {
      "cell_type": "code",
      "execution_count": 7,
      "metadata": {
        "id": "95FCfYQPljsu"
      },
      "outputs": [],
      "source": [
        "class Classifier(torch.nn.Module):\n",
        "    def __init__(self, num_classes=20):\n",
        "        super(Classifier, self).__init__()\n",
        "        self.encoder = torch_eff_encoder\n",
        "        self.fc = torch.nn.Linear(1280, num_classes)\n",
        "\n",
        "    def forward(self, x):\n",
        "        x = self.encoder(x)\n",
        "        return self.fc(x)\n"
      ]
    },
    {
      "cell_type": "markdown",
      "metadata": {
        "id": "GC5J0wyH7MpK"
      },
      "source": [
        "And finally, we can use our new model! As we have mentioned in \"Learn the Basics\", the transpiled model is fully trainable in the target framework, so you can also fine-tune your transpiled modules or train them from the ground up! 📉"
      ]
    },
    {
      "cell_type": "markdown",
      "metadata": {
        "id": "uyhn30KR7MmY"
      },
      "source": []
    },
    {
      "cell_type": "code",
      "execution_count": 8,
      "metadata": {
        "colab": {
          "base_uri": "https://localhost:8080/"
        },
        "id": "ghSeZ655lrAG",
        "outputId": "84d8aa53-53ec-4d3f-d120-47d2b7950977"
      },
      "outputs": [
        {
          "name": "stdout",
          "output_type": "stream",
          "text": [
            "<class 'torch.Tensor'> torch.Size([1, 7, 7, 20])\n"
          ]
        }
      ],
      "source": [
        "model = Classifier()\n",
        "x = torch.randn(1, 224, 224, 3)\n",
        "ret = model(x)\n",
        "print(type(ret), ret.shape)"
      ]
    },
    {
      "cell_type": "markdown",
      "metadata": {
        "id": "1IJy4ayl7WUW"
      },
      "source": [
        "Round Up\n",
        "That's it! Now you are ready to transpile any PyTorch model, layer or trainable module and integrate it within TensorFlow, but let's keep exploring how we can convert trainable modules from (and to!) other frameworks ➡️"
      ]
    }
  ],
  "metadata": {
    "colab": {
      "gpuType": "T4",
      "provenance": [],
      "toc_visible": true
    },
    "kernelspec": {
      "display_name": "Python 3",
      "name": "python3"
    },
    "language_info": {
      "name": "python"
    }
  },
  "nbformat": 4,
  "nbformat_minor": 0
}
